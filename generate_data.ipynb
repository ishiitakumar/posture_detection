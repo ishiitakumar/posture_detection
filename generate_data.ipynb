{
 "cells": [
  {
   "cell_type": "code",
   "execution_count": 1,
   "id": "84c7a058",
   "metadata": {},
   "outputs": [],
   "source": [
    "import cv2"
   ]
  },
  {
   "cell_type": "code",
   "execution_count": 2,
   "id": "2d3ccb76",
   "metadata": {},
   "outputs": [],
   "source": [
    "face_cascade = cv2.CascadeClassifier('myenv\\cv\\Lib\\site-packages\\cv2\\data\\haarcascade_frontalface_default.xml')"
   ]
  },
  {
   "cell_type": "code",
   "execution_count": 10,
   "id": "64b2b78f",
   "metadata": {},
   "outputs": [
    {
     "name": "stdout",
     "output_type": "stream",
     "text": [
      "Enter posture(good/bad) and press enter: good\n"
     ]
    }
   ],
   "source": [
    "pos_id = input('Enter posture(good/bad) and press enter: ')"
   ]
  },
  {
   "cell_type": "code",
   "execution_count": 11,
   "id": "9a0d8718",
   "metadata": {},
   "outputs": [
    {
     "name": "stdout",
     "output_type": "stream",
     "text": [
      "Initialising capture look at the camera\n"
     ]
    }
   ],
   "source": [
    "print('Initialising capture look at the camera')"
   ]
  },
  {
   "cell_type": "code",
   "execution_count": 18,
   "id": "4d422342",
   "metadata": {},
   "outputs": [
    {
     "name": "stdout",
     "output_type": "stream",
     "text": [
      "Exiting program and cleaning up\n"
     ]
    }
   ],
   "source": [
    "cam = cv2.VideoCapture(0)\n",
    "cam.set(3,640) #3->width\n",
    "cam.set(4,400) #4->height\n",
    "count=1\n",
    "while(True):\n",
    "    success,frame = cam.read()\n",
    "    frame_copy = frame.copy()\n",
    "    gray = cv2.cvtColor(frame,cv2.COLOR_BGR2GRAY) #cascade classifier works on grayscale images\n",
    "    faces = face_cascade.detectMultiScale(gray,1.3,5) #scaleFactor=1.3, minNeighbors=5 \n",
    "    # detectMultiScale returns the tuple of coordinates of the detected face, if no face is detected it returns an empty tuple\n",
    "    for (x,y,w,h) in faces:\n",
    "        cv2.rectangle(frame,(x,y),(x+w,y+h),(0,255,0),2)\n",
    "        cv2.imwrite('dataset/' + str(pos_id) + '/' + str(count) + '.jpg', frame_copy)\n",
    "        count += 1\n",
    "        cv2.imshow('Camera', frame)\n",
    "    k = cv2.waitKey(100) & 0xff\n",
    "    if(k==27):\n",
    "        break\n",
    "    elif(count>=100):\n",
    "        break\n",
    "print('Exiting program and cleaning up')\n",
    "cam.release()\n",
    "cv2.destroyAllWindows()"
   ]
  },
  {
   "cell_type": "code",
   "execution_count": null,
   "id": "037bc721",
   "metadata": {},
   "outputs": [],
   "source": []
  }
 ],
 "metadata": {
  "kernelspec": {
   "display_name": "Python [conda env:cv]",
   "language": "python",
   "name": "conda-env-cv-py"
  },
  "language_info": {
   "codemirror_mode": {
    "name": "ipython",
    "version": 3
   },
   "file_extension": ".py",
   "mimetype": "text/x-python",
   "name": "python",
   "nbconvert_exporter": "python",
   "pygments_lexer": "ipython3",
   "version": "3.7.11"
  }
 },
 "nbformat": 4,
 "nbformat_minor": 5
}

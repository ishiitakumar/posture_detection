{
 "cells": [
  {
   "cell_type": "code",
   "execution_count": 1,
   "id": "ff6ea8e4",
   "metadata": {},
   "outputs": [],
   "source": [
    "import cv2\n",
    "from flask import Flask,render_template,Response"
   ]
  },
  {
   "cell_type": "code",
   "execution_count": 3,
   "id": "cccc7263",
   "metadata": {},
   "outputs": [
    {
     "name": "stdout",
     "output_type": "stream",
     "text": [
      " * Serving Flask app '__main__' (lazy loading)\n",
      " * Environment: production\n",
      "\u001b[31m   WARNING: This is a development server. Do not use it in a production deployment.\u001b[0m\n",
      "\u001b[2m   Use a production WSGI server instead.\u001b[0m\n",
      " * Debug mode: on\n"
     ]
    },
    {
     "name": "stderr",
     "output_type": "stream",
     "text": [
      " * Restarting with stat\n"
     ]
    },
    {
     "ename": "SystemExit",
     "evalue": "1",
     "output_type": "error",
     "traceback": [
      "An exception has occurred, use %tb to see the full traceback.\n",
      "\u001b[1;31mSystemExit\u001b[0m\u001b[1;31m:\u001b[0m 1\n"
     ]
    },
    {
     "name": "stderr",
     "output_type": "stream",
     "text": [
      "D:\\resume_projects\\posture\\myenv\\cv\\lib\\site-packages\\IPython\\core\\interactiveshell.py:3465: UserWarning: To exit: use 'exit', 'quit', or Ctrl-D.\n",
      "  warn(\"To exit: use 'exit', 'quit', or Ctrl-D.\", stacklevel=1)\n"
     ]
    }
   ],
   "source": [
    "app = Flask(__name__)\n",
    "cam = cv2.VideoCapture(0)\n",
    "cam.set(3,640) #3->width\n",
    "cam.set(4,400) #4->height\n",
    "\n",
    "def generate_video():\n",
    "    while(True):\n",
    "        success,frame = cam.read()\n",
    "        if(not success):\n",
    "            break\n",
    "        else:\n",
    "            ret,buffer = cv2.imencode('.jpg', frame)\n",
    "            frame = buffer.tobytes()\n",
    "    yield(b'--frame\\r\\n'b'Content-Type: image/jpeg\\r\\n\\r\\n'+frame+b'\\r\\n')\n",
    "\n",
    "@app.route('/')\n",
    "\n",
    "def index():\n",
    "    return render_template('index.html')\n",
    "\n",
    "@app.route('/video')\n",
    "\n",
    "def video():\n",
    "    return Response(generate_video(),mimetype='multipart/x-mixed-replace; boundary=frame')\n",
    "\n",
    "if(__name__=='__main__'):\n",
    "    app.run(debug=True)\n"
   ]
  },
  {
   "cell_type": "code",
   "execution_count": null,
   "id": "5110e076",
   "metadata": {},
   "outputs": [],
   "source": []
  }
 ],
 "metadata": {
  "kernelspec": {
   "display_name": "Python [conda env:cv]",
   "language": "python",
   "name": "conda-env-cv-py"
  },
  "language_info": {
   "codemirror_mode": {
    "name": "ipython",
    "version": 3
   },
   "file_extension": ".py",
   "mimetype": "text/x-python",
   "name": "python",
   "nbconvert_exporter": "python",
   "pygments_lexer": "ipython3",
   "version": "3.7.11"
  }
 },
 "nbformat": 4,
 "nbformat_minor": 5
}
